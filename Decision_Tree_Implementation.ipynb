{
 "cells": [
  {
   "cell_type": "markdown",
   "id": "024f1a37",
   "metadata": {},
   "source": [
    "# Decision Tree Implementation, Visualization, and Analysis\n",
    "\n",
    "This notebook demonstrates how to build and visualize a Decision Tree Classifier using the Iris dataset."
   ]
  },
  {
   "cell_type": "code",
   "execution_count": null,
   "id": "1697a809",
   "metadata": {},
   "outputs": [],
   "source": [
    "\n",
    "# Importing necessary libraries\n",
    "import pandas as pd\n",
    "from sklearn.datasets import load_iris\n",
    "from sklearn.tree import DecisionTreeClassifier\n",
    "from sklearn.model_selection import train_test_split\n",
    "from sklearn.metrics import classification_report, accuracy_score, confusion_matrix\n",
    "from sklearn import tree\n",
    "import matplotlib.pyplot as plt\n"
   ]
  },
  {
   "cell_type": "code",
   "execution_count": null,
   "id": "7a35521d",
   "metadata": {},
   "outputs": [],
   "source": [
    "\n",
    "# Step 1: Load Dataset\n",
    "iris = load_iris()\n",
    "X = pd.DataFrame(iris.data, columns=iris.feature_names)\n",
    "y = pd.Series(iris.target, name='Target')\n",
    "\n",
    "print(\"First 5 rows of the dataset:\")\n",
    "print(X.head())\n"
   ]
  },
  {
   "cell_type": "code",
   "execution_count": null,
   "id": "6bb6857c",
   "metadata": {},
   "outputs": [],
   "source": [
    "\n",
    "# Step 2: Split the Data\n",
    "X_train, X_test, y_train, y_test = train_test_split(X, y, test_size=0.2, random_state=42)\n"
   ]
  },
  {
   "cell_type": "code",
   "execution_count": null,
   "id": "b078b270",
   "metadata": {},
   "outputs": [],
   "source": [
    "\n",
    "# Step 3: Create and Train Decision Tree Model\n",
    "dt_model = DecisionTreeClassifier(criterion='gini', max_depth=3, random_state=42)\n",
    "dt_model.fit(X_train, y_train)\n"
   ]
  },
  {
   "cell_type": "code",
   "execution_count": null,
   "id": "d9e51c92",
   "metadata": {},
   "outputs": [],
   "source": [
    "\n",
    "# Step 4: Make Predictions\n",
    "y_pred = dt_model.predict(X_test)\n"
   ]
  },
  {
   "cell_type": "code",
   "execution_count": null,
   "id": "8b85e211",
   "metadata": {},
   "outputs": [],
   "source": [
    "\n",
    "# Step 5: Evaluate the Model\n",
    "print(\"\\nModel Accuracy:\")\n",
    "print(accuracy_score(y_test, y_pred))\n",
    "\n",
    "print(\"\\nClassification Report:\")\n",
    "print(classification_report(y_test, y_pred, target_names=iris.target_names))\n",
    "\n",
    "print(\"\\nConfusion Matrix:\")\n",
    "print(confusion_matrix(y_test, y_pred))\n"
   ]
  },
  {
   "cell_type": "code",
   "execution_count": null,
   "id": "878a4c1d",
   "metadata": {},
   "outputs": [],
   "source": [
    "\n",
    "# Step 6: Visualize the Decision Tree\n",
    "plt.figure(figsize=(12,8))\n",
    "tree.plot_tree(dt_model, \n",
    "               feature_names=iris.feature_names, \n",
    "               class_names=iris.target_names, \n",
    "               filled=True, \n",
    "               rounded=True,\n",
    "               fontsize=10)\n",
    "plt.title(\"Decision Tree Visualization - Iris Dataset\")\n",
    "plt.show()\n"
   ]
  }
 ],
 "metadata": {
  "language_info": {
   "name": "python"
  }
 },
 "nbformat": 4,
 "nbformat_minor": 5
}
